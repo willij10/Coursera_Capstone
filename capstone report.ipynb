{
    "cells": [
        {
            "cell_type": "markdown",
            "metadata": {
                "collapsed": true
            },
            "source": "## Capstone Report\n\n### Week 4 - Introduction and Data Sections\n\n#### Introduction\n\nA client in planning a move from the east coast to the west coast. They have never lived on the west cost and have a particular interest in the Pacific Northwest. However, they don't know much about the major metropolitan areas, namely Portland, OR and Seattle, WA. They like their current neighborhood in Baltimore, MD along with another neighborhood they had lived in in Decatur, GA. They would like to find neighborhoods in the Pacific Northwest that are similar to the two neighborhoods they enjoy based on venue type and quality.\n\n#### Data\n\nThe data we will use for this problem comes from Foursquare Places API. We will use the longitude and latitude of the known neighborhoods in Baltimore and Decatur to determine the type and quality of nearby venues. We will then evaluate all neighborhoods in Portland, OR and Seattle, WA by obtianing nearby venue category, rating, and price tier. These enighborhoods will be clustered with one another along with the two nieghborhoods from Baltimore and Decatur. The associated clusters will be narrowed based on average venue rating and price tier"
        }
    ],
    "metadata": {
        "kernelspec": {
            "display_name": "Python 3.6",
            "language": "python",
            "name": "python3"
        },
        "language_info": {
            "codemirror_mode": {
                "name": "ipython",
                "version": 3
            },
            "file_extension": ".py",
            "mimetype": "text/x-python",
            "name": "python",
            "nbconvert_exporter": "python",
            "pygments_lexer": "ipython3",
            "version": "3.6.8"
        }
    },
    "nbformat": 4,
    "nbformat_minor": 1
}